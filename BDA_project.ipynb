{
  "cells": [
    {
      "cell_type": "markdown",
      "metadata": {
        "id": "EDXV7j6A_gRL"
      },
      "source": [
        "# Big Data Analytics Project\n",
        "### Implemented by Simona Scala - A.Y. 2022/23"
      ]
    },
    {
      "cell_type": "markdown",
      "metadata": {
        "id": "q5Qvv_OQBO04"
      },
      "source": [
        "The implementation of this project involves exploring data-mining techniques for an online retailer using the pyspark library, following the methodology outlined by [Chen et al.](https://dx.doi.org/10.1057/dbm.2012.17). Their article primarily aims to enhance business understanding of its customers and to utilize data mining techniques to segment customers based on the Recency-Frequency-Monetary (RFM) model."
      ]
    },
    {
      "cell_type": "markdown",
      "metadata": {
        "id": "OsIoskmNw6MJ"
      },
      "source": [
        "## Imports"
      ]
    },
    {
      "cell_type": "code",
      "execution_count": 1,
      "metadata": {
        "colab": {
          "base_uri": "https://localhost:8080/"
        },
        "id": "7GN2HslBsNtm",
        "outputId": "635b8064-12af-4ac6-c166-d9d0af755d00"
      },
      "outputs": [
        {
          "output_type": "stream",
          "name": "stdout",
          "text": [
            "Collecting pyspark\n",
            "  Downloading pyspark-3.4.1.tar.gz (310.8 MB)\n",
            "\u001b[2K     \u001b[90m━━━━━━━━━━━━━━━━━━━━━━━━━━━━━━━━━━━━━━━\u001b[0m \u001b[32m310.8/310.8 MB\u001b[0m \u001b[31m1.8 MB/s\u001b[0m eta \u001b[36m0:00:00\u001b[0m\n",
            "\u001b[?25h  Preparing metadata (setup.py) ... \u001b[?25l\u001b[?25hdone\n",
            "Requirement already satisfied: py4j==0.10.9.7 in /usr/local/lib/python3.10/dist-packages (from pyspark) (0.10.9.7)\n",
            "Building wheels for collected packages: pyspark\n",
            "  Building wheel for pyspark (setup.py) ... \u001b[?25l\u001b[?25hdone\n",
            "  Created wheel for pyspark: filename=pyspark-3.4.1-py2.py3-none-any.whl size=311285397 sha256=bb8d6a343f659783d79b69e2d67bb3a200e3ac3c0c18aa4d42ccd75c52ac3c63\n",
            "  Stored in directory: /root/.cache/pip/wheels/0d/77/a3/ff2f74cc9ab41f8f594dabf0579c2a7c6de920d584206e0834\n",
            "Successfully built pyspark\n",
            "Installing collected packages: pyspark\n",
            "Successfully installed pyspark-3.4.1\n",
            "Collecting wget\n",
            "  Downloading wget-3.2.zip (10 kB)\n",
            "  Preparing metadata (setup.py) ... \u001b[?25l\u001b[?25hdone\n",
            "Building wheels for collected packages: wget\n",
            "  Building wheel for wget (setup.py) ... \u001b[?25l\u001b[?25hdone\n",
            "  Created wheel for wget: filename=wget-3.2-py3-none-any.whl size=9656 sha256=8b9b6d1c9d1cd13a4a4415f8920ba83f3f5822e9bec36456fcd69fbce71d4379\n",
            "  Stored in directory: /root/.cache/pip/wheels/8b/f1/7f/5c94f0a7a505ca1c81cd1d9208ae2064675d97582078e6c769\n",
            "Successfully built wget\n",
            "Installing collected packages: wget\n",
            "Successfully installed wget-3.2\n"
          ]
        }
      ],
      "source": [
        "!pip install pyspark\n",
        "!pip install wget"
      ]
    },
    {
      "cell_type": "code",
      "execution_count": 2,
      "metadata": {
        "id": "7uYGUWFkw5M2"
      },
      "outputs": [],
      "source": [
        "import wget\n",
        "import os\n",
        "import pandas as pd\n",
        "import numpy as np\n",
        "import matplotlib.pyplot as plt\n",
        "from zipfile import ZipFile\n",
        "from pyspark.sql import SparkSession\n",
        "from pyspark.sql.functions import col, date_format, datediff, current_date, max, count, sum\n",
        "from pyspark.ml.feature import RFormula, StandardScaler\n",
        "from pyspark.ml.clustering import KMeans\n",
        "from pyspark.ml.classification import DecisionTreeClassifier, RandomForestClassifier, MultilayerPerceptronClassifier\n",
        "from pyspark.ml.evaluation import ClusteringEvaluator, MulticlassClassificationEvaluator\n",
        "\n",
        "seed = 42   # set the random seed"
      ]
    },
    {
      "cell_type": "markdown",
      "metadata": {
        "id": "oD3ai-t9slUM"
      },
      "source": [
        "## Instantiating a Spark Session"
      ]
    },
    {
      "cell_type": "code",
      "execution_count": 3,
      "metadata": {
        "id": "d1upqSxdsSt3"
      },
      "outputs": [],
      "source": [
        "spark = SparkSession.builder.master(\"local[*]\").getOrCreate()"
      ]
    },
    {
      "cell_type": "code",
      "execution_count": 4,
      "metadata": {
        "colab": {
          "base_uri": "https://localhost:8080/"
        },
        "id": "7x5m3lhnvM7c",
        "outputId": "c06af85f-efb6-4e6d-d5be-095b36094443"
      },
      "outputs": [
        {
          "output_type": "execute_result",
          "data": {
            "text/plain": [
              "pyspark.sql.session.SparkSession"
            ]
          },
          "metadata": {},
          "execution_count": 4
        }
      ],
      "source": [
        "type(spark)"
      ]
    },
    {
      "cell_type": "markdown",
      "metadata": {
        "id": "7WqHoybRKhn4"
      },
      "source": [
        "## Downloading the Dataset"
      ]
    },
    {
      "cell_type": "code",
      "execution_count": 5,
      "metadata": {
        "id": "4OLMe9np9-QM"
      },
      "outputs": [],
      "source": [
        "dataset_url = 'https://archive.ics.uci.edu/static/public/502/online+retail+ii.zip'\n",
        "wget.download(dataset_url)\n",
        "zip_dataset_path = 'online+retail+ii.zip'\n",
        "with ZipFile(zip_dataset_path, 'r') as zObject:\n",
        "  zObject.extractall()\n",
        "\n",
        "os.remove('online+retail+ii.zip')"
      ]
    },
    {
      "cell_type": "markdown",
      "metadata": {
        "id": "jmR3mCqx3dSr"
      },
      "source": [
        "## Loading the Dataset into a Spark Dataframe"
      ]
    },
    {
      "cell_type": "code",
      "execution_count": 6,
      "metadata": {
        "id": "k0YAHxR5M_mZ"
      },
      "outputs": [],
      "source": [
        "df_pandas = pd.read_excel('online_retail_II.xlsx')\n",
        "df = spark.createDataFrame(df_pandas)"
      ]
    },
    {
      "cell_type": "markdown",
      "metadata": {
        "id": "gKO6elOtO80m"
      },
      "source": [
        "## Data Exploration"
      ]
    },
    {
      "cell_type": "code",
      "execution_count": 7,
      "metadata": {
        "colab": {
          "base_uri": "https://localhost:8080/"
        },
        "id": "kCGosO5HO5JZ",
        "outputId": "4d75fd05-070f-4c85-ce69-0794d5df948e"
      },
      "outputs": [
        {
          "output_type": "stream",
          "name": "stdout",
          "text": [
            "+-------+---------+--------------------+--------+-------------------+-----+-----------+--------------+\n",
            "|Invoice|StockCode|         Description|Quantity|        InvoiceDate|Price|Customer ID|       Country|\n",
            "+-------+---------+--------------------+--------+-------------------+-----+-----------+--------------+\n",
            "| 489434|    85048|15CM CHRISTMAS GL...|      12|2009-12-01 07:45:00| 6.95|    13085.0|United Kingdom|\n",
            "| 489434|   79323P|  PINK CHERRY LIGHTS|      12|2009-12-01 07:45:00| 6.75|    13085.0|United Kingdom|\n",
            "| 489434|   79323W| WHITE CHERRY LIGHTS|      12|2009-12-01 07:45:00| 6.75|    13085.0|United Kingdom|\n",
            "| 489434|    22041|RECORD FRAME 7\" S...|      48|2009-12-01 07:45:00|  2.1|    13085.0|United Kingdom|\n",
            "| 489434|    21232|STRAWBERRY CERAMI...|      24|2009-12-01 07:45:00| 1.25|    13085.0|United Kingdom|\n",
            "| 489434|    22064|PINK DOUGHNUT TRI...|      24|2009-12-01 07:45:00| 1.65|    13085.0|United Kingdom|\n",
            "| 489434|    21871| SAVE THE PLANET MUG|      24|2009-12-01 07:45:00| 1.25|    13085.0|United Kingdom|\n",
            "| 489434|    21523|FANCY FONT HOME S...|      10|2009-12-01 07:45:00| 5.95|    13085.0|United Kingdom|\n",
            "| 489435|    22350|           CAT BOWL |      12|2009-12-01 07:46:00| 2.55|    13085.0|United Kingdom|\n",
            "| 489435|    22349|DOG BOWL , CHASIN...|      12|2009-12-01 07:46:00| 3.75|    13085.0|United Kingdom|\n",
            "| 489435|    22195|HEART MEASURING S...|      24|2009-12-01 07:46:00| 1.65|    13085.0|United Kingdom|\n",
            "| 489435|    22353|LUNCHBOX WITH CUT...|      12|2009-12-01 07:46:00| 2.55|    13085.0|United Kingdom|\n",
            "| 489436|   48173C|DOOR MAT BLACK FL...|      10|2009-12-01 09:06:00| 5.95|    13078.0|United Kingdom|\n",
            "| 489436|    21755|LOVE BUILDING BLO...|      18|2009-12-01 09:06:00| 5.45|    13078.0|United Kingdom|\n",
            "| 489436|    21754|HOME BUILDING BLO...|       3|2009-12-01 09:06:00| 5.95|    13078.0|United Kingdom|\n",
            "| 489436|    84879|ASSORTED COLOUR B...|      16|2009-12-01 09:06:00| 1.69|    13078.0|United Kingdom|\n",
            "| 489436|    22119| PEACE WOODEN BLO...|       3|2009-12-01 09:06:00| 6.95|    13078.0|United Kingdom|\n",
            "| 489436|    22142|CHRISTMAS CRAFT W...|      12|2009-12-01 09:06:00| 1.45|    13078.0|United Kingdom|\n",
            "| 489436|    22296|HEART IVORY TRELL...|      12|2009-12-01 09:06:00| 1.65|    13078.0|United Kingdom|\n",
            "| 489436|    22295|HEART FILIGREE DO...|      12|2009-12-01 09:06:00| 1.65|    13078.0|United Kingdom|\n",
            "+-------+---------+--------------------+--------+-------------------+-----+-----------+--------------+\n",
            "only showing top 20 rows\n",
            "\n"
          ]
        }
      ],
      "source": [
        "df.show()"
      ]
    },
    {
      "cell_type": "code",
      "execution_count": 8,
      "metadata": {
        "colab": {
          "base_uri": "https://localhost:8080/"
        },
        "id": "t2su6VTyOm0S",
        "outputId": "d76b13d7-29a2-4d94-8445-083e7768d5e0"
      },
      "outputs": [
        {
          "output_type": "stream",
          "name": "stdout",
          "text": [
            "root\n",
            " |-- Invoice: string (nullable = true)\n",
            " |-- StockCode: string (nullable = true)\n",
            " |-- Description: string (nullable = true)\n",
            " |-- Quantity: long (nullable = true)\n",
            " |-- InvoiceDate: timestamp (nullable = true)\n",
            " |-- Price: double (nullable = true)\n",
            " |-- Customer ID: double (nullable = true)\n",
            " |-- Country: string (nullable = true)\n",
            "\n"
          ]
        }
      ],
      "source": [
        "df.printSchema()"
      ]
    },
    {
      "cell_type": "code",
      "execution_count": 9,
      "metadata": {
        "colab": {
          "base_uri": "https://localhost:8080/"
        },
        "id": "pGvSbU_sQZMH",
        "outputId": "9dffcbed-94b1-4703-c0d4-14123d5a287b"
      },
      "outputs": [
        {
          "output_type": "stream",
          "name": "stdout",
          "text": [
            "Number of features:  8\n"
          ]
        }
      ],
      "source": [
        "print('Number of features: ', len(df.columns))"
      ]
    },
    {
      "cell_type": "markdown",
      "metadata": {
        "id": "-hFIBbDIIB3x"
      },
      "source": [
        "Upon analyzing the data, it becomes evident that the dataset has undergone modifications over the years. Contrary to the original research's suggestion of 11 variables, the current dataset comprises only 8 variables. Notably, the variables `Address Line 1`, `Address Line 2`, `Address Line 3`, and `PostCode` have been substituted with the variable `Customer ID`. It is important to highlight that the variable PostCode played a crucial role for the business, as it provided vital information that enabled the identification and tracking of individual consumers in the UK. This information facilitated in-depth analyses in their study. One potential reason for replacing these variables could be the growth in the number of customers, making it more convenient to utilize a `Customer ID` for easier recognition of clients, even if they originate from other countries.\n"
      ]
    },
    {
      "cell_type": "code",
      "execution_count": 10,
      "metadata": {
        "colab": {
          "base_uri": "https://localhost:8080/"
        },
        "id": "ioTtd5KGPwDo",
        "outputId": "0d8c955f-e0b2-4c94-f950-65d70734e6d3"
      },
      "outputs": [
        {
          "output_type": "stream",
          "name": "stdout",
          "text": [
            "Number of instances: 525461\n"
          ]
        }
      ],
      "source": [
        "print('Number of instances:', df.count())"
      ]
    },
    {
      "cell_type": "markdown",
      "metadata": {
        "id": "KQJzx0qQUfc6"
      },
      "source": [
        "## Data Pre-Processing"
      ]
    },
    {
      "cell_type": "markdown",
      "metadata": {
        "id": "BvQFfyQ1zQHD"
      },
      "source": [
        "To enable further computation, it is necessary to eliminate all rows that contain `null` values in the columns `Quantity`, `InvoiceDate`, `Price`, `Customer ID`, and `Country`. These specific columns must be devoid of any null values to proceed with the calculations."
      ]
    },
    {
      "cell_type": "code",
      "execution_count": 11,
      "metadata": {
        "colab": {
          "base_uri": "https://localhost:8080/"
        },
        "id": "q1P2RbjIuaKq",
        "outputId": "ccca1e98-9a4e-457d-b7cf-d9c94f462d33"
      },
      "outputs": [
        {
          "output_type": "stream",
          "name": "stdout",
          "text": [
            "Number of instances: 417534\n"
          ]
        }
      ],
      "source": [
        "columns_to_check = ['Quantity', 'InvoiceDate', 'Price', 'Customer ID', 'Country']\n",
        "df = df.dropna(subset=columns_to_check)\n",
        "print('Number of instances:', df.count())"
      ]
    },
    {
      "cell_type": "markdown",
      "metadata": {
        "id": "dua-gYE-4634"
      },
      "source": [
        "Furthermore, we proceed with the elimination of all rows where the `Quantity` value is less than 0, as negative values hold no meaningful interpretation in this context."
      ]
    },
    {
      "cell_type": "code",
      "execution_count": 12,
      "metadata": {
        "colab": {
          "base_uri": "https://localhost:8080/"
        },
        "id": "ms0OIbEC2bXo",
        "outputId": "49066d84-d54e-4afb-efa3-68e6a4acbee7"
      },
      "outputs": [
        {
          "output_type": "stream",
          "name": "stdout",
          "text": [
            "Number of instances: 407695\n"
          ]
        }
      ],
      "source": [
        "df = df.filter(df.Quantity > 0)\n",
        "print('Number of instances:', df.count())"
      ]
    },
    {
      "cell_type": "markdown",
      "metadata": {
        "id": "dMYGVFgCh1ga"
      },
      "source": [
        "In accordance with Chen et al.'s paper, we generate a new aggregated variable called `Amount` by multiplying the values of `Quantity` with `Price`. This computation results in the total amount of money spent on each product/item within every transaction."
      ]
    },
    {
      "cell_type": "code",
      "execution_count": 13,
      "metadata": {
        "colab": {
          "base_uri": "https://localhost:8080/"
        },
        "id": "stabemC1h0za",
        "outputId": "d7dbc842-b2c5-47c9-e86b-381a74981451"
      },
      "outputs": [
        {
          "output_type": "stream",
          "name": "stdout",
          "text": [
            "+-------+---------+--------------------+--------+-------------------+-----+-----------+--------------+------+\n",
            "|Invoice|StockCode|         Description|Quantity|        InvoiceDate|Price|Customer ID|       Country|Amount|\n",
            "+-------+---------+--------------------+--------+-------------------+-----+-----------+--------------+------+\n",
            "| 489434|    85048|15CM CHRISTMAS GL...|      12|2009-12-01 07:45:00| 6.95|    13085.0|United Kingdom|  83.4|\n",
            "| 489434|   79323P|  PINK CHERRY LIGHTS|      12|2009-12-01 07:45:00| 6.75|    13085.0|United Kingdom|  81.0|\n",
            "| 489434|   79323W| WHITE CHERRY LIGHTS|      12|2009-12-01 07:45:00| 6.75|    13085.0|United Kingdom|  81.0|\n",
            "| 489434|    22041|RECORD FRAME 7\" S...|      48|2009-12-01 07:45:00|  2.1|    13085.0|United Kingdom| 100.8|\n",
            "| 489434|    21232|STRAWBERRY CERAMI...|      24|2009-12-01 07:45:00| 1.25|    13085.0|United Kingdom|  30.0|\n",
            "| 489434|    22064|PINK DOUGHNUT TRI...|      24|2009-12-01 07:45:00| 1.65|    13085.0|United Kingdom|  39.6|\n",
            "| 489434|    21871| SAVE THE PLANET MUG|      24|2009-12-01 07:45:00| 1.25|    13085.0|United Kingdom|  30.0|\n",
            "| 489434|    21523|FANCY FONT HOME S...|      10|2009-12-01 07:45:00| 5.95|    13085.0|United Kingdom|  59.5|\n",
            "| 489435|    22350|           CAT BOWL |      12|2009-12-01 07:46:00| 2.55|    13085.0|United Kingdom|  30.6|\n",
            "| 489435|    22349|DOG BOWL , CHASIN...|      12|2009-12-01 07:46:00| 3.75|    13085.0|United Kingdom|  45.0|\n",
            "| 489435|    22195|HEART MEASURING S...|      24|2009-12-01 07:46:00| 1.65|    13085.0|United Kingdom|  39.6|\n",
            "| 489435|    22353|LUNCHBOX WITH CUT...|      12|2009-12-01 07:46:00| 2.55|    13085.0|United Kingdom|  30.6|\n",
            "| 489436|   48173C|DOOR MAT BLACK FL...|      10|2009-12-01 09:06:00| 5.95|    13078.0|United Kingdom|  59.5|\n",
            "| 489436|    21755|LOVE BUILDING BLO...|      18|2009-12-01 09:06:00| 5.45|    13078.0|United Kingdom|  98.1|\n",
            "| 489436|    21754|HOME BUILDING BLO...|       3|2009-12-01 09:06:00| 5.95|    13078.0|United Kingdom| 17.85|\n",
            "| 489436|    84879|ASSORTED COLOUR B...|      16|2009-12-01 09:06:00| 1.69|    13078.0|United Kingdom| 27.04|\n",
            "| 489436|    22119| PEACE WOODEN BLO...|       3|2009-12-01 09:06:00| 6.95|    13078.0|United Kingdom| 20.85|\n",
            "| 489436|    22142|CHRISTMAS CRAFT W...|      12|2009-12-01 09:06:00| 1.45|    13078.0|United Kingdom|  17.4|\n",
            "| 489436|    22296|HEART IVORY TRELL...|      12|2009-12-01 09:06:00| 1.65|    13078.0|United Kingdom|  19.8|\n",
            "| 489436|    22295|HEART FILIGREE DO...|      12|2009-12-01 09:06:00| 1.65|    13078.0|United Kingdom|  19.8|\n",
            "+-------+---------+--------------------+--------+-------------------+-----+-----------+--------------+------+\n",
            "only showing top 20 rows\n",
            "\n"
          ]
        }
      ],
      "source": [
        "df = df.withColumn('Amount', (col('Quantity')*col('Price')).cast('float'))\n",
        "df.show()"
      ]
    },
    {
      "cell_type": "markdown",
      "metadata": {
        "id": "e6bZnFRLgdvC"
      },
      "source": [
        "Next, we separate the variable `InvoiceDate` into two variables `Date` and `Time`. This allows different transactions created by the same consumer on the same day but at different times to be treated separately."
      ]
    },
    {
      "cell_type": "code",
      "execution_count": 14,
      "metadata": {
        "colab": {
          "base_uri": "https://localhost:8080/"
        },
        "id": "xvXzpl8Wcjk4",
        "outputId": "e36cd4e3-e2a3-42c7-e649-d57fb71ed92b"
      },
      "outputs": [
        {
          "output_type": "stream",
          "name": "stdout",
          "text": [
            "+-------+---------+--------------------+--------+-----+-----------+--------------+------+----------+--------+\n",
            "|Invoice|StockCode|         Description|Quantity|Price|Customer ID|       Country|Amount|      Date|    Time|\n",
            "+-------+---------+--------------------+--------+-----+-----------+--------------+------+----------+--------+\n",
            "| 489434|    85048|15CM CHRISTMAS GL...|      12| 6.95|    13085.0|United Kingdom|  83.4|2009-12-01|07:45:00|\n",
            "| 489434|   79323P|  PINK CHERRY LIGHTS|      12| 6.75|    13085.0|United Kingdom|  81.0|2009-12-01|07:45:00|\n",
            "| 489434|   79323W| WHITE CHERRY LIGHTS|      12| 6.75|    13085.0|United Kingdom|  81.0|2009-12-01|07:45:00|\n",
            "| 489434|    22041|RECORD FRAME 7\" S...|      48|  2.1|    13085.0|United Kingdom| 100.8|2009-12-01|07:45:00|\n",
            "| 489434|    21232|STRAWBERRY CERAMI...|      24| 1.25|    13085.0|United Kingdom|  30.0|2009-12-01|07:45:00|\n",
            "| 489434|    22064|PINK DOUGHNUT TRI...|      24| 1.65|    13085.0|United Kingdom|  39.6|2009-12-01|07:45:00|\n",
            "| 489434|    21871| SAVE THE PLANET MUG|      24| 1.25|    13085.0|United Kingdom|  30.0|2009-12-01|07:45:00|\n",
            "| 489434|    21523|FANCY FONT HOME S...|      10| 5.95|    13085.0|United Kingdom|  59.5|2009-12-01|07:45:00|\n",
            "| 489435|    22350|           CAT BOWL |      12| 2.55|    13085.0|United Kingdom|  30.6|2009-12-01|07:46:00|\n",
            "| 489435|    22349|DOG BOWL , CHASIN...|      12| 3.75|    13085.0|United Kingdom|  45.0|2009-12-01|07:46:00|\n",
            "| 489435|    22195|HEART MEASURING S...|      24| 1.65|    13085.0|United Kingdom|  39.6|2009-12-01|07:46:00|\n",
            "| 489435|    22353|LUNCHBOX WITH CUT...|      12| 2.55|    13085.0|United Kingdom|  30.6|2009-12-01|07:46:00|\n",
            "| 489436|   48173C|DOOR MAT BLACK FL...|      10| 5.95|    13078.0|United Kingdom|  59.5|2009-12-01|09:06:00|\n",
            "| 489436|    21755|LOVE BUILDING BLO...|      18| 5.45|    13078.0|United Kingdom|  98.1|2009-12-01|09:06:00|\n",
            "| 489436|    21754|HOME BUILDING BLO...|       3| 5.95|    13078.0|United Kingdom| 17.85|2009-12-01|09:06:00|\n",
            "| 489436|    84879|ASSORTED COLOUR B...|      16| 1.69|    13078.0|United Kingdom| 27.04|2009-12-01|09:06:00|\n",
            "| 489436|    22119| PEACE WOODEN BLO...|       3| 6.95|    13078.0|United Kingdom| 20.85|2009-12-01|09:06:00|\n",
            "| 489436|    22142|CHRISTMAS CRAFT W...|      12| 1.45|    13078.0|United Kingdom|  17.4|2009-12-01|09:06:00|\n",
            "| 489436|    22296|HEART IVORY TRELL...|      12| 1.65|    13078.0|United Kingdom|  19.8|2009-12-01|09:06:00|\n",
            "| 489436|    22295|HEART FILIGREE DO...|      12| 1.65|    13078.0|United Kingdom|  19.8|2009-12-01|09:06:00|\n",
            "+-------+---------+--------------------+--------+-----+-----------+--------------+------+----------+--------+\n",
            "only showing top 20 rows\n",
            "\n"
          ]
        }
      ],
      "source": [
        "df = df.withColumn('Date', date_format('InvoiceDate', 'yyyy-MM-dd'))\n",
        "df = df.withColumn('Time', date_format('InvoiceDate', 'HH:mm:ss'))\n",
        "df = df.drop('InvoiceDate')\n",
        "df.show()"
      ]
    },
    {
      "cell_type": "markdown",
      "metadata": {
        "id": "GtyZ_POC6DsW"
      },
      "source": [
        "Furthermore, for improved dataset segmentation, the analysis is narrowed down to consumers exclusively from the United Kingdom. Consequently, all transactions not linked to the United Kingdom are filtered out from the research."
      ]
    },
    {
      "cell_type": "code",
      "execution_count": 15,
      "metadata": {
        "colab": {
          "base_uri": "https://localhost:8080/"
        },
        "id": "WbfW8pA36Vnz",
        "outputId": "a8521630-4d28-4f50-d4db-6e6cde86df3c"
      },
      "outputs": [
        {
          "output_type": "stream",
          "name": "stdout",
          "text": [
            "Number of instances: 370951\n"
          ]
        }
      ],
      "source": [
        "df = df.filter(df.Country.like(\"United Kingdom\"))\n",
        "print('Number of instances:', df.count())"
      ]
    },
    {
      "cell_type": "markdown",
      "metadata": {
        "id": "bSKagfS7DRQZ"
      },
      "source": [
        "Now, we embark on preparing the dataset for segmentation. First, we sort the dataset by `Customer ID` and create three fundamental aggregated variables: `Recency`, `Frequency`, and `Monetary`. These variables are computed on a per Customer ID basis and hold the following meanings:\n",
        "\n",
        "- Recency: This variable signifies the number of days elapsed since a customer's most recent interaction or transaction with the business.\n",
        "- Frequency: The Frequency variable indicates the count of interactions or transactions a customer has conducted with the business during a specific timeframe. It encompasses the number of transactions, visits, or actions within the defined period.\n",
        "- Monetary: The Monetary variable reflects the total monetary value or amount spent by a customer within the specified time frame. It encapsulates all the expenditures made by the customer."
      ]
    },
    {
      "cell_type": "code",
      "execution_count": 16,
      "metadata": {
        "colab": {
          "base_uri": "https://localhost:8080/"
        },
        "id": "HYmn_tJf_bcn",
        "outputId": "0e421d26-34f2-4caf-823d-9af87a63afcf"
      },
      "outputs": [
        {
          "output_type": "stream",
          "name": "stdout",
          "text": [
            "+-----------+-------+---------+---------+\n",
            "|Customer ID|Recency|Frequency| Monetary|\n",
            "+-----------+-------+---------+---------+\n",
            "|    12346.0|   4777|       33|   372.86|\n",
            "|    12608.0|   4652|       16|   415.79|\n",
            "|    12745.0|   4734|       22|   723.85|\n",
            "|    12746.0|   4788|       17|   254.55|\n",
            "|    12747.0|   4617|      154|5080.5303|\n",
            "|    12748.0|   4613|     2634| 22879.66|\n",
            "|    12749.0|   4647|      139|  2806.48|\n",
            "|    12777.0|   4705|       26|   519.45|\n",
            "|    12819.0|   4706|       19|   540.52|\n",
            "|    12820.0|   4645|      101|  1747.18|\n",
            "|    12821.0|   4859|        7|   128.08|\n",
            "|    12823.0|   4642|       13|   4742.0|\n",
            "|    12825.0|   4769|       24|   518.63|\n",
            "|    12826.0|   4613|       75|  1481.03|\n",
            "|    12829.0|   4798|        8|92.299995|\n",
            "|    12831.0|   4711|       13|   236.06|\n",
            "|    12835.0|   4675|      620|  6043.31|\n",
            "|    12836.0|   4637|      239|  3972.76|\n",
            "|    12837.0|   4817|       80|   554.31|\n",
            "|    12838.0|   4621|      300|  2715.35|\n",
            "+-----------+-------+---------+---------+\n",
            "only showing top 20 rows\n",
            "\n"
          ]
        }
      ],
      "source": [
        "df_agg = df.groupby(\"Customer ID\").agg(\n",
        "    datediff(current_date(), max(\"Date\")).alias(\"Recency\"),\n",
        "    count(\"Invoice\").alias(\"Frequency\"),\n",
        "    sum(\"Amount\").cast('float').alias(\"Monetary\")\n",
        ")\n",
        "df_agg.show()"
      ]
    },
    {
      "cell_type": "code",
      "execution_count": 17,
      "metadata": {
        "colab": {
          "base_uri": "https://localhost:8080/"
        },
        "id": "P9Vl2gvjzKez",
        "outputId": "0431e071-34bd-4b30-c640-7abea61cab8e"
      },
      "outputs": [
        {
          "output_type": "stream",
          "name": "stdout",
          "text": [
            "Number of instances in the aggregated dataset: 3971\n"
          ]
        }
      ],
      "source": [
        "print('Number of instances in the aggregated dataset:', df_agg.count())"
      ]
    },
    {
      "cell_type": "markdown",
      "metadata": {
        "id": "z2UIOMhXbrDo"
      },
      "source": [
        "At this point, we are ready to utilize the RFormula to define the clustering formula, which includes specifying the features to be employed in the process. The RFormula will assemble these features into a vector, enabling us to perform clustering based on the selected variables."
      ]
    },
    {
      "cell_type": "code",
      "execution_count": 18,
      "metadata": {
        "colab": {
          "base_uri": "https://localhost:8080/"
        },
        "id": "yfUKmJO_bu2z",
        "outputId": "29349788-dc94-479f-97ef-98ebc8cdf37a"
      },
      "outputs": [
        {
          "output_type": "stream",
          "name": "stdout",
          "text": [
            "+-----------+-------+---------+---------+--------------------+\n",
            "|Customer ID|Recency|Frequency| Monetary|            features|\n",
            "+-----------+-------+---------+---------+--------------------+\n",
            "|    12346.0|   4777|       33|   372.86|[4777.0,33.0,372....|\n",
            "|    12608.0|   4652|       16|   415.79|[4652.0,16.0,415....|\n",
            "|    12745.0|   4734|       22|   723.85|[4734.0,22.0,723....|\n",
            "|    12746.0|   4788|       17|   254.55|[4788.0,17.0,254....|\n",
            "|    12747.0|   4617|      154|5080.5303|[4617.0,154.0,508...|\n",
            "|    12748.0|   4613|     2634| 22879.66|[4613.0,2634.0,22...|\n",
            "|    12749.0|   4647|      139|  2806.48|[4647.0,139.0,280...|\n",
            "|    12777.0|   4705|       26|   519.45|[4705.0,26.0,519....|\n",
            "|    12819.0|   4706|       19|   540.52|[4706.0,19.0,540....|\n",
            "|    12820.0|   4645|      101|  1747.18|[4645.0,101.0,174...|\n",
            "|    12821.0|   4859|        7|   128.08|[4859.0,7.0,128.0...|\n",
            "|    12823.0|   4642|       13|   4742.0|[4642.0,13.0,4742.0]|\n",
            "|    12825.0|   4769|       24|   518.63|[4769.0,24.0,518....|\n",
            "|    12826.0|   4613|       75|  1481.03|[4613.0,75.0,1481...|\n",
            "|    12829.0|   4798|        8|92.299995|[4798.0,8.0,92.29...|\n",
            "|    12831.0|   4711|       13|   236.06|[4711.0,13.0,236....|\n",
            "|    12835.0|   4675|      620|  6043.31|[4675.0,620.0,604...|\n",
            "|    12836.0|   4637|      239|  3972.76|[4637.0,239.0,397...|\n",
            "|    12837.0|   4817|       80|   554.31|[4817.0,80.0,554....|\n",
            "|    12838.0|   4621|      300|  2715.35|[4621.0,300.0,271...|\n",
            "+-----------+-------+---------+---------+--------------------+\n",
            "only showing top 20 rows\n",
            "\n"
          ]
        }
      ],
      "source": [
        "rf = RFormula(formula=\"~ Recency + Frequency + Monetary\")\n",
        "rf_fit = rf.fit(df_agg)\n",
        "rf_transfd = rf_fit.transform(df_agg)\n",
        "rf_transfd.show()"
      ]
    },
    {
      "cell_type": "markdown",
      "metadata": {
        "id": "NQh8sueLuHaV"
      },
      "source": [
        "In the context of clustering, it is essential to scale the features to ensure they have comparable ranges. Scaling helps prevent any particular feature from dominating the distance calculations used in clustering algorithms such as the k-means algorithm. A commonly used method to standardize the features is by employing the `StandardScaler`.\n",
        "\n",
        "The `StandardScaler` in PySpark is a data preprocessing technique that transforms the features of the dataset by subtracting the mean and dividing by the standard deviation of each feature. This transformation centers the data around zero and scales it to have unit variance. By doing so, all the features are brought to a similar scale, which ensures that their impact on the clustering process is balanced and none of them disproportionately influences the results.\n",
        "\n",
        "In summary, using the `StandardScaler` in PySpark is a crucial step to normalize the features, making them comparable and avoiding biased clustering outcomes due to feature magnitudes."
      ]
    },
    {
      "cell_type": "code",
      "execution_count": 19,
      "metadata": {
        "colab": {
          "base_uri": "https://localhost:8080/"
        },
        "id": "pUnKsd5Ayi1W",
        "outputId": "8b5904c4-ff2b-4ecd-bf7d-5f343f5c57bf"
      },
      "outputs": [
        {
          "output_type": "stream",
          "name": "stdout",
          "text": [
            "+-----------+-------+---------+---------+--------------------+--------------------+\n",
            "|Customer ID|Recency|Frequency| Monetary|            features|      scaledFeatures|\n",
            "+-----------+-------+---------+---------+--------------------+--------------------+\n",
            "|    12346.0|   4777|       33|   372.86|[4777.0,33.0,372....|[49.1650914958890...|\n",
            "|    12608.0|   4652|       16|   415.79|[4652.0,16.0,415....|[47.8785860663336...|\n",
            "|    12745.0|   4734|       22|   723.85|[4734.0,22.0,723....|[48.7225336281219...|\n",
            "|    12746.0|   4788|       17|   254.55|[4788.0,17.0,254....|[49.2783039736899...|\n",
            "|    12747.0|   4617|      154|5080.5303|[4617.0,154.0,508...|[47.5183645460581...|\n",
            "|    12748.0|   4613|     2634| 22879.66|[4613.0,2634.0,22...|[47.4771963723123...|\n",
            "|    12749.0|   4647|      139|  2806.48|[4647.0,139.0,280...|[47.8271258491514...|\n",
            "|    12777.0|   4705|       26|   519.45|[4705.0,26.0,519....|[48.4240643684651...|\n",
            "|    12819.0|   4706|       19|   540.52|[4706.0,19.0,540....|[48.4343564119015...|\n",
            "|    12820.0|   4645|      101|  1747.18|[4645.0,101.0,174...|[47.8065417622785...|\n",
            "|    12821.0|   4859|        7|   128.08|[4859.0,7.0,128.0...|[50.0090390576773...|\n",
            "|    12823.0|   4642|       13|   4742.0|[4642.0,13.0,4742.0]|[47.7756656319692...|\n",
            "|    12825.0|   4769|       24|   518.63|[4769.0,24.0,518....|[49.0827551483974...|\n",
            "|    12826.0|   4613|       75|  1481.03|[4613.0,75.0,1481...|[47.4771963723123...|\n",
            "|    12829.0|   4798|        8|92.299995|[4798.0,8.0,92.29...|[49.3812244080543...|\n",
            "|    12831.0|   4711|       13|   236.06|[4711.0,13.0,236....|[48.4858166290837...|\n",
            "|    12835.0|   4675|      620|  6043.31|[4675.0,620.0,604...|[48.1153030653718...|\n",
            "|    12836.0|   4637|      239|  3972.76|[4637.0,239.0,397...|[47.7242054147869...|\n",
            "|    12837.0|   4817|       80|   554.31|[4817.0,80.0,554....|[49.5767732333467...|\n",
            "|    12838.0|   4621|      300|  2715.35|[4621.0,300.0,271...|[47.5595327198039...|\n",
            "+-----------+-------+---------+---------+--------------------+--------------------+\n",
            "only showing top 20 rows\n",
            "\n"
          ]
        }
      ],
      "source": [
        "scaler = StandardScaler(inputCol=\"features\", outputCol=\"scaledFeatures\")\n",
        "rf_transfd = scaler.fit(rf_transfd).transform(rf_transfd)\n",
        "rf_transfd.show()"
      ]
    },
    {
      "cell_type": "markdown",
      "metadata": {
        "id": "7J6zqVQAtJnn"
      },
      "source": [
        "## Clustering"
      ]
    },
    {
      "cell_type": "markdown",
      "metadata": {
        "id": "SckVHNiqeT5Y"
      },
      "source": [
        "Selecting the optimal value of `k`, the number of clusters, is a crucial step in clustering analysis. The silhouette score serves as a metric to evaluate how well each object within the dataset belongs to its respective cluster compared to other clusters. A higher silhouette score indicates that the clusters are well-defined and distinct. By computing the silhouette scores for different `k` values, we can identify the one that maximizes the score, indicating the most suitable number of clusters for our dataset. This process ensures that we achieve meaningful and well-separated clusters, enhancing the effectiveness of our clustering analysis."
      ]
    },
    {
      "cell_type": "code",
      "execution_count": 20,
      "metadata": {
        "colab": {
          "base_uri": "https://localhost:8080/",
          "height": 472
        },
        "id": "hUSf_YLseWyB",
        "outputId": "742a3d61-785d-405f-a971-0ae3398e3149"
      },
      "outputs": [
        {
          "output_type": "display_data",
          "data": {
            "text/plain": [
              "<Figure size 640x480 with 1 Axes>"
            ],
            "image/png": "[encoded data removed]"
          },
          "metadata": {}
        }
      ],
      "source": [
        "silhouette_scores = []\n",
        "for k in range(2, 11):\n",
        "    kmeans = KMeans(featuresCol=\"scaledFeatures\", k=k, seed=seed)\n",
        "    model = kmeans.fit(rf_transfd)\n",
        "    clusters = model.transform(rf_transfd)\n",
        "    evaluator = ClusteringEvaluator()\n",
        "    silhouette_score = evaluator.evaluate(clusters)\n",
        "    silhouette_scores.append(silhouette_score)\n",
        "\n",
        "# Plot the silhouette scores for different k\n",
        "plt.plot(range(2, 11), silhouette_scores)\n",
        "plt.xlabel(\"Number of Clusters (k)\")\n",
        "plt.ylabel(\"Silhouette Score\")\n",
        "plt.title(\"Silhouette Score for Optimal k\")\n",
        "plt.show()"
      ]
    },
    {
      "cell_type": "markdown",
      "metadata": {
        "id": "tk_b1l-oznax"
      },
      "source": [
        "We assign the value of `k` that yields the highest silhouette score."
      ]
    },
    {
      "cell_type": "code",
      "execution_count": 21,
      "metadata": {
        "id": "0-IY1KJzwgdJ"
      },
      "outputs": [],
      "source": [
        "k = silhouette_scores.index(np.max(silhouette_scores)) + 2"
      ]
    },
    {
      "cell_type": "markdown",
      "metadata": {
        "id": "4GwOVMhHzjUl"
      },
      "source": [
        "We are now ready to implement the k-means clustering algorithm and proceed to fit the k-means model to the scaled dataset. Once the k-means model is trained, the data points are assigned cluster labels by transforming them with the trained model."
      ]
    },
    {
      "cell_type": "code",
      "execution_count": 22,
      "metadata": {
        "colab": {
          "base_uri": "https://localhost:8080/"
        },
        "id": "YdvzJCkizpM0",
        "outputId": "fd1b22c3-9763-4656-f7ef-e9d416b14087"
      },
      "outputs": [
        {
          "output_type": "stream",
          "name": "stdout",
          "text": [
            "+-------+---------+---------+----------+\n",
            "|Recency|Frequency| Monetary|prediction|\n",
            "+-------+---------+---------+----------+\n",
            "|   4777|       33|   372.86|         3|\n",
            "|   4652|       16|   415.79|         8|\n",
            "|   4734|       22|   723.85|         3|\n",
            "|   4788|       17|   254.55|         3|\n",
            "|   4617|      154|5080.5303|         0|\n",
            "|   4613|     2634| 22879.66|         5|\n",
            "|   4647|      139|  2806.48|         0|\n",
            "|   4705|       26|   519.45|         8|\n",
            "|   4706|       19|   540.52|         8|\n",
            "|   4645|      101|  1747.18|         8|\n",
            "|   4859|        7|   128.08|         1|\n",
            "|   4642|       13|   4742.0|         8|\n",
            "|   4769|       24|   518.63|         3|\n",
            "|   4613|       75|  1481.03|         8|\n",
            "|   4798|        8|92.299995|         3|\n",
            "|   4711|       13|   236.06|         8|\n",
            "|   4675|      620|  6043.31|         7|\n",
            "|   4637|      239|  3972.76|         0|\n",
            "|   4817|       80|   554.31|         3|\n",
            "|   4621|      300|  2715.35|         0|\n",
            "+-------+---------+---------+----------+\n",
            "only showing top 20 rows\n",
            "\n"
          ]
        }
      ],
      "source": [
        "kmeans = KMeans(featuresCol=\"scaledFeatures\", k=k, seed=seed)\n",
        "kmeans_model = kmeans.fit(rf_transfd)\n",
        "clusters = kmeans_model.transform(rf_transfd)\n",
        "clusters.select(\"Recency\", \"Frequency\", \"Monetary\", \"prediction\").show()"
      ]
    },
    {
      "cell_type": "markdown",
      "metadata": {
        "id": "m9WSOped0luR"
      },
      "source": [
        "After clustering the data, we visualize the results to gain a clear understanding of the clustering process outcome."
      ]
    },
    {
      "cell_type": "code",
      "execution_count": 23,
      "metadata": {
        "colab": {
          "base_uri": "https://localhost:8080/",
          "height": 1000
        },
        "id": "zuD9cvpT0si9",
        "outputId": "4996f0c1-10ab-4d43-a78a-6d680d584241"
      },
      "outputs": [
        {
          "output_type": "display_data",
          "data": {
            "text/plain": [
              "<Figure size 640x480 with 1 Axes>"
            ],
            "image/png": "[encoded data removed]"
          },
          "metadata": {}
        },
        {
          "output_type": "display_data",
          "data": {
            "text/plain": [
              "<Figure size 640x480 with 1 Axes>"
            ],
            "image/png": "[encoded data removed]"
          },
          "metadata": {}
        },
        {
          "output_type": "display_data",
          "data": {
            "text/plain": [
              "<Figure size 640x480 with 1 Axes>"
            ],
            "image/png": "[encoded data removed]"
          },
          "metadata": {}
        }
      ],
      "source": [
        "pandas_df = clusters.select(\"Recency\", \"Frequency\", \"Monetary\", \"prediction\").toPandas()  # convert to Pandas DataFrame\n",
        "\n",
        "plt.scatter(pandas_df[\"Recency\"], pandas_df[\"Frequency\"], c=pandas_df[\"prediction\"], cmap=\"viridis\")\n",
        "plt.xlabel(\"Recency\")\n",
        "plt.ylabel(\"Frequency\")\n",
        "plt.title(\"Cluster Visualization\")\n",
        "plt.show()\n",
        "\n",
        "plt.scatter(pandas_df[\"Monetary\"], pandas_df[\"Frequency\"], c=pandas_df[\"prediction\"], cmap=\"viridis\")\n",
        "plt.xlabel(\"Monetary\")\n",
        "plt.ylabel(\"Frequency\")\n",
        "plt.title(\"Cluster Visualization\")\n",
        "plt.show()\n",
        "\n",
        "plt.scatter(pandas_df[\"Monetary\"], pandas_df[\"Recency\"], c=pandas_df[\"prediction\"], cmap=\"viridis\")\n",
        "plt.xlabel(\"Monetary\")\n",
        "plt.ylabel(\"Recency\")\n",
        "plt.title(\"Cluster Visualization\")\n",
        "plt.show()"
      ]
    },
    {
      "cell_type": "markdown",
      "metadata": {
        "id": "evs2uksC2Dwx"
      },
      "source": [
        "Now that we have labeled our data through the clustering process, the next step involves training multiple machine learning models on the labeled data. Subsequently, we can compare the performances of these models to identify the most effective one for our specific task."
      ]
    },
    {
      "cell_type": "markdown",
      "metadata": {
        "id": "PYrHvGvxtJ9P"
      },
      "source": [
        "## Decision Tree"
      ]
    },
    {
      "cell_type": "code",
      "execution_count": 24,
      "metadata": {
        "colab": {
          "base_uri": "https://localhost:8080/"
        },
        "id": "yNyMhq3fIJyj",
        "outputId": "ec36f50e-519a-430b-ce73-b9226e0187ee"
      },
      "outputs": [
        {
          "output_type": "stream",
          "name": "stdout",
          "text": [
            "+-----------+-------+---------+---------+--------------------+--------------------+----------+\n",
            "|Customer ID|Recency|Frequency| Monetary|            features|      scaledFeatures|prediction|\n",
            "+-----------+-------+---------+---------+--------------------+--------------------+----------+\n",
            "|    12346.0|   4777|       33|   372.86|[4777.0,33.0,372....|[49.1650914958890...|         3|\n",
            "|    12608.0|   4652|       16|   415.79|[4652.0,16.0,415....|[47.8785860663336...|         8|\n",
            "|    12745.0|   4734|       22|   723.85|[4734.0,22.0,723....|[48.7225336281219...|         3|\n",
            "|    12746.0|   4788|       17|   254.55|[4788.0,17.0,254....|[49.2783039736899...|         3|\n",
            "|    12747.0|   4617|      154|5080.5303|[4617.0,154.0,508...|[47.5183645460581...|         0|\n",
            "|    12748.0|   4613|     2634| 22879.66|[4613.0,2634.0,22...|[47.4771963723123...|         5|\n",
            "|    12749.0|   4647|      139|  2806.48|[4647.0,139.0,280...|[47.8271258491514...|         0|\n",
            "|    12777.0|   4705|       26|   519.45|[4705.0,26.0,519....|[48.4240643684651...|         8|\n",
            "|    12819.0|   4706|       19|   540.52|[4706.0,19.0,540....|[48.4343564119015...|         8|\n",
            "|    12820.0|   4645|      101|  1747.18|[4645.0,101.0,174...|[47.8065417622785...|         8|\n",
            "|    12821.0|   4859|        7|   128.08|[4859.0,7.0,128.0...|[50.0090390576773...|         1|\n",
            "|    12823.0|   4642|       13|   4742.0|[4642.0,13.0,4742.0]|[47.7756656319692...|         8|\n",
            "|    12825.0|   4769|       24|   518.63|[4769.0,24.0,518....|[49.0827551483974...|         3|\n",
            "|    12826.0|   4613|       75|  1481.03|[4613.0,75.0,1481...|[47.4771963723123...|         8|\n",
            "|    12829.0|   4798|        8|92.299995|[4798.0,8.0,92.29...|[49.3812244080543...|         3|\n",
            "|    12831.0|   4711|       13|   236.06|[4711.0,13.0,236....|[48.4858166290837...|         8|\n",
            "|    12835.0|   4675|      620|  6043.31|[4675.0,620.0,604...|[48.1153030653718...|         7|\n",
            "|    12836.0|   4637|      239|  3972.76|[4637.0,239.0,397...|[47.7242054147869...|         0|\n",
            "|    12837.0|   4817|       80|   554.31|[4817.0,80.0,554....|[49.5767732333467...|         3|\n",
            "|    12838.0|   4621|      300|  2715.35|[4621.0,300.0,271...|[47.5595327198039...|         0|\n",
            "+-----------+-------+---------+---------+--------------------+--------------------+----------+\n",
            "only showing top 20 rows\n",
            "\n"
          ]
        }
      ],
      "source": [
        "clusters.show()"
      ]
    },
    {
      "cell_type": "markdown",
      "metadata": {
        "id": "KrFlWNb6xZ2a"
      },
      "source": [
        "To evaluate the model, we partition the data into training and testing sets."
      ]
    },
    {
      "cell_type": "code",
      "execution_count": 25,
      "metadata": {
        "colab": {
          "base_uri": "https://localhost:8080/"
        },
        "id": "NFvAWitCxc5S",
        "outputId": "fd3b3d62-3c84-4155-b94b-4fb0fa6ea118"
      },
      "outputs": [
        {
          "output_type": "stream",
          "name": "stdout",
          "text": [
            "Number of instances in the training set: 2845\n",
            "Number of instances in the test set: 1126\n"
          ]
        }
      ],
      "source": [
        "(df_train, df_test) = clusters.randomSplit([0.7, 0.3], seed=seed)\n",
        "print('Number of instances in the training set:', df_train.count())\n",
        "print('Number of instances in the test set:', df_test.count())"
      ]
    },
    {
      "cell_type": "code",
      "execution_count": 26,
      "metadata": {
        "colab": {
          "base_uri": "https://localhost:8080/"
        },
        "id": "B6YzNqlVK1Z5",
        "outputId": "abbcb4e0-7433-4dcd-a4d4-c0591208818e"
      },
      "outputs": [
        {
          "output_type": "stream",
          "name": "stdout",
          "text": [
            "+--------------------+-----+\n",
            "|            features|label|\n",
            "+--------------------+-----+\n",
            "|[4777.0,33.0,372....|    3|\n",
            "|[4652.0,16.0,415....|    8|\n",
            "|[4788.0,17.0,254....|    3|\n",
            "|[4617.0,154.0,508...|    0|\n",
            "|[4613.0,2634.0,22...|    5|\n",
            "|[4705.0,26.0,519....|    8|\n",
            "|[4859.0,7.0,128.0...|    1|\n",
            "|[4642.0,13.0,4742.0]|    8|\n",
            "|[4769.0,24.0,518....|    3|\n",
            "|[4675.0,620.0,604...|    7|\n",
            "|[4637.0,239.0,397...|    0|\n",
            "|[4817.0,80.0,554....|    3|\n",
            "|[4615.0,262.0,448...|    0|\n",
            "|[4617.0,282.0,351...|    0|\n",
            "|[4690.0,51.0,322....|    8|\n",
            "|[4930.0,1.0,15.57...|    1|\n",
            "|[4635.0,35.0,765....|    8|\n",
            "|[4725.0,30.0,148....|    3|\n",
            "|[4809.0,155.0,166...|    3|\n",
            "|[4631.0,49.0,177....|    8|\n",
            "+--------------------+-----+\n",
            "only showing top 20 rows\n",
            "\n"
          ]
        }
      ],
      "source": [
        "in_train = df_train.selectExpr(\"features\", \"prediction as label\")\n",
        "in_train.show()"
      ]
    },
    {
      "cell_type": "markdown",
      "metadata": {
        "id": "Botqca30yIiZ"
      },
      "source": [
        "To construct and train the Decision Tree Model, we begin by instantiating the DecisionTreeClassifier algorithm and configuring the relevant parameters. Subsequently, we proceed to fit the model using the training data, enabling it to learn from the provided dataset."
      ]
    },
    {
      "cell_type": "code",
      "execution_count": 27,
      "metadata": {
        "colab": {
          "base_uri": "https://localhost:8080/"
        },
        "id": "wyixd5NBzvm8",
        "outputId": "a14f0a78-2644-411f-da17-c24ab48d0ac6"
      },
      "outputs": [
        {
          "output_type": "stream",
          "name": "stdout",
          "text": [
            "+-----+----------+\n",
            "|label|prediction|\n",
            "+-----+----------+\n",
            "|    3|       3.0|\n",
            "|    8|       8.0|\n",
            "|    3|       3.0|\n",
            "|    0|       0.0|\n",
            "|    5|       7.0|\n",
            "|    8|       8.0|\n",
            "|    1|       1.0|\n",
            "|    8|       8.0|\n",
            "|    3|       3.0|\n",
            "|    7|       7.0|\n",
            "|    0|       0.0|\n",
            "|    3|       3.0|\n",
            "|    0|       0.0|\n",
            "|    0|       0.0|\n",
            "|    8|       8.0|\n",
            "|    1|       1.0|\n",
            "|    8|       8.0|\n",
            "|    3|       3.0|\n",
            "|    3|       3.0|\n",
            "|    8|       8.0|\n",
            "+-----+----------+\n",
            "only showing top 20 rows\n",
            "\n"
          ]
        }
      ],
      "source": [
        "tree = DecisionTreeClassifier()\n",
        "tree_model = tree.fit(in_train)\n",
        "tree_model.transform(in_train).select(\"label\",\"prediction\").show()"
      ]
    },
    {
      "cell_type": "code",
      "execution_count": 28,
      "metadata": {
        "colab": {
          "base_uri": "https://localhost:8080/"
        },
        "id": "tTyH_Nd-LqOY",
        "outputId": "997da4cb-3dd6-4ee3-f7c3-63173cd275d9"
      },
      "outputs": [
        {
          "output_type": "stream",
          "name": "stdout",
          "text": [
            "+--------------------+-----+\n",
            "|            features|label|\n",
            "+--------------------+-----+\n",
            "|[4734.0,22.0,723....|    3|\n",
            "|[4647.0,139.0,280...|    0|\n",
            "|[4706.0,19.0,540....|    8|\n",
            "|[4645.0,101.0,174...|    8|\n",
            "|[4613.0,75.0,1481...|    8|\n",
            "|[4798.0,8.0,92.29...|    3|\n",
            "|[4711.0,13.0,236....|    8|\n",
            "|[4621.0,300.0,271...|    0|\n",
            "|[4685.0,63.0,1315...|    8|\n",
            "| [4652.0,14.0,799.0]|    8|\n",
            "|[4630.0,118.0,488...|    0|\n",
            "| [4923.0,16.0,208.0]|    1|\n",
            "|[4629.0,97.0,2039...|    8|\n",
            "|  [4693.0,2.0,330.0]|    8|\n",
            "|[4675.0,70.0,1950...|    8|\n",
            "|[4620.0,67.0,612....|    8|\n",
            "|[4684.0,75.0,2581...|    8|\n",
            "|  [4867.0,4.0,68.25]|    1|\n",
            "|[4756.0,4.0,152.4...|    3|\n",
            "|[4645.0,525.0,387...|    7|\n",
            "+--------------------+-----+\n",
            "only showing top 20 rows\n",
            "\n"
          ]
        }
      ],
      "source": [
        "in_test = df_test.selectExpr(\"features\", \"prediction as label\")\n",
        "in_test.show()"
      ]
    },
    {
      "cell_type": "markdown",
      "metadata": {
        "id": "84CxhJEpMUO4"
      },
      "source": [
        "After training the Decision Tree Model, the next step involves evaluating its performance on the test set. We apply the trained model to the test data and compute its accuracy to assess how well it generalizes to new, unseen examples."
      ]
    },
    {
      "cell_type": "code",
      "execution_count": 29,
      "metadata": {
        "colab": {
          "base_uri": "https://localhost:8080/"
        },
        "id": "3PQUKzlWMEuh",
        "outputId": "dbf3fb85-15b0-4368-f28f-8c10f5051b5e"
      },
      "outputs": [
        {
          "output_type": "stream",
          "name": "stdout",
          "text": [
            "+-----+----------+\n",
            "|label|prediction|\n",
            "+-----+----------+\n",
            "|    3|       3.0|\n",
            "|    0|       0.0|\n",
            "|    8|       8.0|\n",
            "|    8|       8.0|\n",
            "|    8|       8.0|\n",
            "|    3|       3.0|\n",
            "|    8|       8.0|\n",
            "|    0|       0.0|\n",
            "|    8|       8.0|\n",
            "|    8|       8.0|\n",
            "|    0|       0.0|\n",
            "|    1|       1.0|\n",
            "|    8|       8.0|\n",
            "|    8|       8.0|\n",
            "|    8|       8.0|\n",
            "|    8|       8.0|\n",
            "|    8|       8.0|\n",
            "|    1|       1.0|\n",
            "|    3|       3.0|\n",
            "|    7|       7.0|\n",
            "+-----+----------+\n",
            "only showing top 20 rows\n",
            "\n"
          ]
        }
      ],
      "source": [
        "tree_pred = tree_model.transform(in_test).select(\"label\",\"prediction\")\n",
        "tree_pred.show()"
      ]
    },
    {
      "cell_type": "code",
      "execution_count": 30,
      "metadata": {
        "colab": {
          "base_uri": "https://localhost:8080/"
        },
        "id": "mwswe80VMWvi",
        "outputId": "4203fc41-d9e7-483f-92ac-dc8916c8ed5e"
      },
      "outputs": [
        {
          "output_type": "stream",
          "name": "stdout",
          "text": [
            "Test accuracy: 95.91%\n"
          ]
        }
      ],
      "source": [
        "tree_evaluator = MulticlassClassificationEvaluator(labelCol='label', predictionCol='prediction', metricName='accuracy')\n",
        "tree_accuracy = tree_evaluator.evaluate(tree_pred) * 100\n",
        "print(f\"Test accuracy: {tree_accuracy:.2f}%\")"
      ]
    },
    {
      "cell_type": "markdown",
      "metadata": {
        "id": "uvhymi2LNmy-"
      },
      "source": [
        "## Random Forest Classifier"
      ]
    },
    {
      "cell_type": "code",
      "execution_count": 31,
      "metadata": {
        "colab": {
          "base_uri": "https://localhost:8080/"
        },
        "id": "w9PSjdQ7NtFY",
        "outputId": "f94aba0f-01ec-4b3a-85b8-465ae553d400"
      },
      "outputs": [
        {
          "output_type": "stream",
          "name": "stdout",
          "text": [
            "+-----+----------+\n",
            "|label|prediction|\n",
            "+-----+----------+\n",
            "|    3|       3.0|\n",
            "|    8|       8.0|\n",
            "|    3|       3.0|\n",
            "|    0|       0.0|\n",
            "|    5|       7.0|\n",
            "|    8|       8.0|\n",
            "|    1|       1.0|\n",
            "|    8|       8.0|\n",
            "|    3|       3.0|\n",
            "|    7|       7.0|\n",
            "|    0|       0.0|\n",
            "|    3|       3.0|\n",
            "|    0|       0.0|\n",
            "|    0|       0.0|\n",
            "|    8|       8.0|\n",
            "|    1|       1.0|\n",
            "|    8|       8.0|\n",
            "|    3|       3.0|\n",
            "|    3|       3.0|\n",
            "|    8|       8.0|\n",
            "+-----+----------+\n",
            "only showing top 20 rows\n",
            "\n"
          ]
        }
      ],
      "source": [
        "rf = RandomForestClassifier()\n",
        "rf_model = rf.fit(in_train)\n",
        "rf_model.transform(in_train).select(\"label\",\"prediction\").show()"
      ]
    },
    {
      "cell_type": "code",
      "execution_count": 32,
      "metadata": {
        "colab": {
          "base_uri": "https://localhost:8080/"
        },
        "id": "I9D7yEs1PNcP",
        "outputId": "4295c73a-22cc-4d70-8e42-1a1a6aa00a66"
      },
      "outputs": [
        {
          "output_type": "stream",
          "name": "stdout",
          "text": [
            "+-----+----------+\n",
            "|label|prediction|\n",
            "+-----+----------+\n",
            "|    3|       3.0|\n",
            "|    0|       0.0|\n",
            "|    8|       8.0|\n",
            "|    8|       8.0|\n",
            "|    8|       8.0|\n",
            "|    3|       3.0|\n",
            "|    8|       8.0|\n",
            "|    0|       0.0|\n",
            "|    8|       8.0|\n",
            "|    8|       8.0|\n",
            "|    0|       0.0|\n",
            "|    1|       1.0|\n",
            "|    8|       8.0|\n",
            "|    8|       8.0|\n",
            "|    8|       8.0|\n",
            "|    8|       8.0|\n",
            "|    8|       8.0|\n",
            "|    1|       1.0|\n",
            "|    3|       3.0|\n",
            "|    7|       7.0|\n",
            "+-----+----------+\n",
            "only showing top 20 rows\n",
            "\n"
          ]
        }
      ],
      "source": [
        "rf_pred = rf_model.transform(in_test).select(\"label\",\"prediction\")\n",
        "rf_pred.show()"
      ]
    },
    {
      "cell_type": "code",
      "execution_count": 33,
      "metadata": {
        "colab": {
          "base_uri": "https://localhost:8080/"
        },
        "id": "KeQXv9viPHTb",
        "outputId": "d6f9c8b2-0713-4cb9-ab50-3cd0697f97ff"
      },
      "outputs": [
        {
          "output_type": "stream",
          "name": "stdout",
          "text": [
            "Test accuracy: 95.83%\n"
          ]
        }
      ],
      "source": [
        "rf_evaluator = MulticlassClassificationEvaluator(labelCol='label', predictionCol='prediction', metricName='accuracy')\n",
        "rf_accuracy = rf_evaluator.evaluate(rf_pred) * 100\n",
        "print(f\"Test accuracy: {rf_accuracy:.2f}%\")"
      ]
    },
    {
      "cell_type": "markdown",
      "metadata": {
        "id": "8rfaHcdBTW8v"
      },
      "source": [
        "## Neural Network"
      ]
    },
    {
      "cell_type": "code",
      "execution_count": 34,
      "metadata": {
        "id": "jgfBaQ4FTdLb"
      },
      "outputs": [],
      "source": [
        "layers = [3, 5, 5, 10] # specify the number of layers in the network\n",
        "nn = MultilayerPerceptronClassifier(layers=layers, seed=seed)\n",
        "nn_model = nn.fit(in_train)"
      ]
    },
    {
      "cell_type": "code",
      "execution_count": 35,
      "metadata": {
        "colab": {
          "base_uri": "https://localhost:8080/"
        },
        "id": "dmhJOeyZDHMd",
        "outputId": "6514b8bd-67a4-4e9e-eb2f-6ad9396278b7"
      },
      "outputs": [
        {
          "output_type": "stream",
          "name": "stdout",
          "text": [
            "+-----+----------+\n",
            "|label|prediction|\n",
            "+-----+----------+\n",
            "|    3|       8.0|\n",
            "|    0|       0.0|\n",
            "|    8|       8.0|\n",
            "|    8|       8.0|\n",
            "|    8|       8.0|\n",
            "|    3|       8.0|\n",
            "|    8|       8.0|\n",
            "|    0|       0.0|\n",
            "|    8|       8.0|\n",
            "|    8|       8.0|\n",
            "|    0|       0.0|\n",
            "|    1|       8.0|\n",
            "|    8|       8.0|\n",
            "|    8|       8.0|\n",
            "|    8|       8.0|\n",
            "|    8|       8.0|\n",
            "|    8|       8.0|\n",
            "|    1|       8.0|\n",
            "|    3|       8.0|\n",
            "|    7|       0.0|\n",
            "+-----+----------+\n",
            "only showing top 20 rows\n",
            "\n"
          ]
        }
      ],
      "source": [
        "nn_pred = nn_model.transform(in_test)\n",
        "nn_pred = nn_pred.select(\"label\",\"prediction\")\n",
        "nn_pred.show()"
      ]
    },
    {
      "cell_type": "code",
      "execution_count": 36,
      "metadata": {
        "colab": {
          "base_uri": "https://localhost:8080/"
        },
        "id": "LfkefpbO6X6X",
        "outputId": "fba96728-a902-4b3f-87b8-40fa3cd06a37"
      },
      "outputs": [
        {
          "output_type": "stream",
          "name": "stdout",
          "text": [
            "Test accuracy: 62.70%\n"
          ]
        }
      ],
      "source": [
        "nn_evaluator = MulticlassClassificationEvaluator(labelCol='label', predictionCol='prediction', metricName='accuracy')\n",
        "nn_accuracy = nn_evaluator.evaluate(nn_pred) * 100\n",
        "print(f\"Test accuracy: {nn_accuracy:.2f}%\")"
      ]
    }
  ],
  "metadata": {
    "colab": {
      "provenance": [],
      "toc_visible": true
    },
    "kernelspec": {
      "display_name": "Python 3",
      "name": "python3"
    },
    "language_info": {
      "name": "python"
    }
  },
  "nbformat": 4,
  "nbformat_minor": 0
}